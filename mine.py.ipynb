{
 "cells": [
  {
   "metadata": {},
   "cell_type": "code",
   "source": [
    "\n",
    "!python --version\n",
    "!pip list\n",
    "import sys\n",
    "print(sys.executable)\n"
   ],
   "id": "1004c101e3336492",
   "outputs": [],
   "execution_count": null
  },
  {
   "metadata": {},
   "cell_type": "code",
   "source": [
    "import os\n",
    "import re\n",
    "import fitz  # PyMuPDF for PDF handling\n",
    "import nltk\n",
    "from nltk.corpus import stopwords\n",
    "from transformers import BartForConditionalGeneration, BartTokenizer\n",
    "import spacy\n"
   ],
   "id": "30fb89c1c8f8b4db",
   "outputs": [],
   "execution_count": null
  },
  {
   "metadata": {},
   "cell_type": "code",
   "source": [
    "pdf_directory = \"./10\"\n",
    "for filename in os.listdir(pdf_directory):\n",
    "    print(filename)"
   ],
   "id": "63d84d10a9b64640",
   "outputs": [],
   "execution_count": null
  },
  {
   "metadata": {},
   "cell_type": "code",
   "source": [
    "# NLTK and spaCy downloads\n",
    "nltk.download('stopwords')\n",
    "stop_words = set(stopwords.words('english'))\n",
    "print(stop_words)\n",
    "nlp = spacy.load(\"en_core_web_sm\")\n",
    "print(nlp)\n",
    "# High-level keywords for important sentence extraction\n",
    "high_level_keywords = [\"objective\", \"goal\", \"approach\", \"propose\", \"demonstrate\", \"result\", \"outcome\",\n",
    "                       \"find\", \"discover\", \"introduce\", \"overview\", \"conclude\", \"describe\", \"present\", \"model\"]\n"
   ],
   "id": "14c9a6af4ef62a78",
   "outputs": [],
   "execution_count": null
  },
  {
   "metadata": {},
   "cell_type": "code",
   "source": [
    "model_name = \"facebook/bart-large-cnn\"\n",
    "#  pre-trained model provided by Facebook's AI team,\n",
    "#  specifically a variant of the BART (Bidirectional and Auto-Regressive Transformers) model\n",
    "model = BartForConditionalGeneration.from_pretrained(model_name)\n",
    "# BartForConditionalGeneration is a class provided by the Hugging Face library\n",
    "# that is tailored for tasks like text generation and summarization.\n",
    "tokenizer = BartTokenizer.from_pretrained(model_name)"
   ],
   "id": "cae09e1e1f4f5472",
   "outputs": [],
   "execution_count": null
  },
  {
   "metadata": {},
   "cell_type": "code",
   "source": "",
   "id": "2a9f41bd116b4923",
   "outputs": [],
   "execution_count": null
  },
  {
   "metadata": {},
   "cell_type": "code",
   "source": [
    "\n",
    "\n"
   ],
   "id": "88a137c5c0ec9098",
   "outputs": [],
   "execution_count": null
  }
 ],
 "metadata": {
  "kernelspec": {
   "display_name": "Python (doa_env)",
   "language": "python",
   "name": "doa_env"
  },
  "language_info": {
   "codemirror_mode": {
    "name": "ipython",
    "version": 2
   },
   "file_extension": ".py",
   "mimetype": "text/x-python",
   "name": "python",
   "nbconvert_exporter": "python",
   "pygments_lexer": "ipython2",
   "version": "2.7.6"
  }
 },
 "nbformat": 4,
 "nbformat_minor": 5
}
